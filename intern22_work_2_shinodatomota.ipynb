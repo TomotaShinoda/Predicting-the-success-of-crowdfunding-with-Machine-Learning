{
 "cells": [
  {
   "cell_type": "markdown",
   "metadata": {},
   "source": [
    "## 目的：あるクラウドファンディングが成功するかを事前に予測するモデルを構築する"
   ]
  },
  {
   "cell_type": "code",
   "execution_count": 35,
   "metadata": {},
   "outputs": [],
   "source": [
    "import markdown\n",
    "%matplotlib inline\n",
    "import pandas as pd\n",
    "import numpy as np\n",
    "import matplotlib.pyplot as plt\n",
    "import seaborn as sns"
   ]
  },
  {
   "cell_type": "markdown",
   "metadata": {},
   "source": [
    "### データの可視化、前処理"
   ]
  },
  {
   "cell_type": "code",
   "execution_count": 36,
   "metadata": {},
   "outputs": [
    {
     "data": {
      "text/html": [
       "<div>\n",
       "<style scoped>\n",
       "    .dataframe tbody tr th:only-of-type {\n",
       "        vertical-align: middle;\n",
       "    }\n",
       "\n",
       "    .dataframe tbody tr th {\n",
       "        vertical-align: top;\n",
       "    }\n",
       "\n",
       "    .dataframe thead th {\n",
       "        text-align: right;\n",
       "    }\n",
       "</style>\n",
       "<table border=\"1\" class=\"dataframe\">\n",
       "  <thead>\n",
       "    <tr style=\"text-align: right;\">\n",
       "      <th></th>\n",
       "      <th>ID</th>\n",
       "      <th>name</th>\n",
       "      <th>category</th>\n",
       "      <th>main_category</th>\n",
       "      <th>currency</th>\n",
       "      <th>deadline</th>\n",
       "      <th>goal</th>\n",
       "      <th>launched</th>\n",
       "      <th>pledged</th>\n",
       "      <th>state</th>\n",
       "      <th>backers</th>\n",
       "      <th>country</th>\n",
       "      <th>usd pledged</th>\n",
       "      <th>usd_pledged_real</th>\n",
       "      <th>usd_goal_real</th>\n",
       "    </tr>\n",
       "  </thead>\n",
       "  <tbody>\n",
       "    <tr>\n",
       "      <th>0</th>\n",
       "      <td>1000002330</td>\n",
       "      <td>The Songs of Adelaide &amp; Abullah</td>\n",
       "      <td>Poetry</td>\n",
       "      <td>Publishing</td>\n",
       "      <td>GBP</td>\n",
       "      <td>2015-10-09</td>\n",
       "      <td>1000.0</td>\n",
       "      <td>2015-08-11 12:12:28</td>\n",
       "      <td>0.0</td>\n",
       "      <td>failed</td>\n",
       "      <td>0</td>\n",
       "      <td>GB</td>\n",
       "      <td>0.0</td>\n",
       "      <td>0.0</td>\n",
       "      <td>1533.95</td>\n",
       "    </tr>\n",
       "    <tr>\n",
       "      <th>1</th>\n",
       "      <td>1000003930</td>\n",
       "      <td>Greeting From Earth: ZGAC Arts Capsule For ET</td>\n",
       "      <td>Narrative Film</td>\n",
       "      <td>Film &amp; Video</td>\n",
       "      <td>USD</td>\n",
       "      <td>2017-11-01</td>\n",
       "      <td>30000.0</td>\n",
       "      <td>2017-09-02 04:43:57</td>\n",
       "      <td>2421.0</td>\n",
       "      <td>failed</td>\n",
       "      <td>15</td>\n",
       "      <td>US</td>\n",
       "      <td>100.0</td>\n",
       "      <td>2421.0</td>\n",
       "      <td>30000.00</td>\n",
       "    </tr>\n",
       "    <tr>\n",
       "      <th>2</th>\n",
       "      <td>1000004038</td>\n",
       "      <td>Where is Hank?</td>\n",
       "      <td>Narrative Film</td>\n",
       "      <td>Film &amp; Video</td>\n",
       "      <td>USD</td>\n",
       "      <td>2013-02-26</td>\n",
       "      <td>45000.0</td>\n",
       "      <td>2013-01-12 00:20:50</td>\n",
       "      <td>220.0</td>\n",
       "      <td>failed</td>\n",
       "      <td>3</td>\n",
       "      <td>US</td>\n",
       "      <td>220.0</td>\n",
       "      <td>220.0</td>\n",
       "      <td>45000.00</td>\n",
       "    </tr>\n",
       "    <tr>\n",
       "      <th>3</th>\n",
       "      <td>1000007540</td>\n",
       "      <td>ToshiCapital Rekordz Needs Help to Complete Album</td>\n",
       "      <td>Music</td>\n",
       "      <td>Music</td>\n",
       "      <td>USD</td>\n",
       "      <td>2012-04-16</td>\n",
       "      <td>5000.0</td>\n",
       "      <td>2012-03-17 03:24:11</td>\n",
       "      <td>1.0</td>\n",
       "      <td>failed</td>\n",
       "      <td>1</td>\n",
       "      <td>US</td>\n",
       "      <td>1.0</td>\n",
       "      <td>1.0</td>\n",
       "      <td>5000.00</td>\n",
       "    </tr>\n",
       "    <tr>\n",
       "      <th>4</th>\n",
       "      <td>1000011046</td>\n",
       "      <td>Community Film Project: The Art of Neighborhoo...</td>\n",
       "      <td>Film &amp; Video</td>\n",
       "      <td>Film &amp; Video</td>\n",
       "      <td>USD</td>\n",
       "      <td>2015-08-29</td>\n",
       "      <td>19500.0</td>\n",
       "      <td>2015-07-04 08:35:03</td>\n",
       "      <td>1283.0</td>\n",
       "      <td>canceled</td>\n",
       "      <td>14</td>\n",
       "      <td>US</td>\n",
       "      <td>1283.0</td>\n",
       "      <td>1283.0</td>\n",
       "      <td>19500.00</td>\n",
       "    </tr>\n",
       "  </tbody>\n",
       "</table>\n",
       "</div>"
      ],
      "text/plain": [
       "           ID                                               name  \\\n",
       "0  1000002330                    The Songs of Adelaide & Abullah   \n",
       "1  1000003930      Greeting From Earth: ZGAC Arts Capsule For ET   \n",
       "2  1000004038                                     Where is Hank?   \n",
       "3  1000007540  ToshiCapital Rekordz Needs Help to Complete Album   \n",
       "4  1000011046  Community Film Project: The Art of Neighborhoo...   \n",
       "\n",
       "         category main_category currency    deadline     goal  \\\n",
       "0          Poetry    Publishing      GBP  2015-10-09   1000.0   \n",
       "1  Narrative Film  Film & Video      USD  2017-11-01  30000.0   \n",
       "2  Narrative Film  Film & Video      USD  2013-02-26  45000.0   \n",
       "3           Music         Music      USD  2012-04-16   5000.0   \n",
       "4    Film & Video  Film & Video      USD  2015-08-29  19500.0   \n",
       "\n",
       "              launched  pledged     state  backers country  usd pledged  \\\n",
       "0  2015-08-11 12:12:28      0.0    failed        0      GB          0.0   \n",
       "1  2017-09-02 04:43:57   2421.0    failed       15      US        100.0   \n",
       "2  2013-01-12 00:20:50    220.0    failed        3      US        220.0   \n",
       "3  2012-03-17 03:24:11      1.0    failed        1      US          1.0   \n",
       "4  2015-07-04 08:35:03   1283.0  canceled       14      US       1283.0   \n",
       "\n",
       "   usd_pledged_real  usd_goal_real  \n",
       "0               0.0        1533.95  \n",
       "1            2421.0       30000.00  \n",
       "2             220.0       45000.00  \n",
       "3               1.0        5000.00  \n",
       "4            1283.0       19500.00  "
      ]
     },
     "execution_count": 36,
     "metadata": {},
     "output_type": "execute_result"
    }
   ],
   "source": [
    "#データの読み込み\n",
    "df = pd.read_csv(\"ks-projects-201801.csv\")\n",
    "df.head()"
   ]
  },
  {
   "cell_type": "code",
   "execution_count": 37,
   "metadata": {},
   "outputs": [
    {
     "name": "stdout",
     "output_type": "stream",
     "text": [
      "<class 'pandas.core.frame.DataFrame'>\n",
      "RangeIndex: 378661 entries, 0 to 378660\n",
      "Data columns (total 15 columns):\n",
      " #   Column            Non-Null Count   Dtype  \n",
      "---  ------            --------------   -----  \n",
      " 0   ID                378661 non-null  int64  \n",
      " 1   name              378657 non-null  object \n",
      " 2   category          378661 non-null  object \n",
      " 3   main_category     378661 non-null  object \n",
      " 4   currency          378661 non-null  object \n",
      " 5   deadline          378661 non-null  object \n",
      " 6   goal              378661 non-null  float64\n",
      " 7   launched          378661 non-null  object \n",
      " 8   pledged           378661 non-null  float64\n",
      " 9   state             378661 non-null  object \n",
      " 10  backers           378661 non-null  int64  \n",
      " 11  country           378661 non-null  object \n",
      " 12  usd pledged       374864 non-null  float64\n",
      " 13  usd_pledged_real  378661 non-null  float64\n",
      " 14  usd_goal_real     378661 non-null  float64\n",
      "dtypes: float64(5), int64(2), object(8)\n",
      "memory usage: 43.3+ MB\n"
     ]
    }
   ],
   "source": [
    "#データの確認\n",
    "df.info()"
   ]
  },
  {
   "cell_type": "code",
   "execution_count": 38,
   "metadata": {},
   "outputs": [
    {
     "data": {
      "text/html": [
       "<div>\n",
       "<style scoped>\n",
       "    .dataframe tbody tr th:only-of-type {\n",
       "        vertical-align: middle;\n",
       "    }\n",
       "\n",
       "    .dataframe tbody tr th {\n",
       "        vertical-align: top;\n",
       "    }\n",
       "\n",
       "    .dataframe thead th {\n",
       "        text-align: right;\n",
       "    }\n",
       "</style>\n",
       "<table border=\"1\" class=\"dataframe\">\n",
       "  <thead>\n",
       "    <tr style=\"text-align: right;\">\n",
       "      <th></th>\n",
       "      <th>ID</th>\n",
       "      <th>goal</th>\n",
       "      <th>pledged</th>\n",
       "      <th>backers</th>\n",
       "      <th>usd pledged</th>\n",
       "      <th>usd_pledged_real</th>\n",
       "      <th>usd_goal_real</th>\n",
       "    </tr>\n",
       "  </thead>\n",
       "  <tbody>\n",
       "    <tr>\n",
       "      <th>count</th>\n",
       "      <td>3.786610e+05</td>\n",
       "      <td>3.786610e+05</td>\n",
       "      <td>3.786610e+05</td>\n",
       "      <td>378661.000000</td>\n",
       "      <td>3.748640e+05</td>\n",
       "      <td>3.786610e+05</td>\n",
       "      <td>3.786610e+05</td>\n",
       "    </tr>\n",
       "    <tr>\n",
       "      <th>mean</th>\n",
       "      <td>1.074731e+09</td>\n",
       "      <td>4.908079e+04</td>\n",
       "      <td>9.682979e+03</td>\n",
       "      <td>105.617476</td>\n",
       "      <td>7.036729e+03</td>\n",
       "      <td>9.058924e+03</td>\n",
       "      <td>4.545440e+04</td>\n",
       "    </tr>\n",
       "    <tr>\n",
       "      <th>std</th>\n",
       "      <td>6.190862e+08</td>\n",
       "      <td>1.183391e+06</td>\n",
       "      <td>9.563601e+04</td>\n",
       "      <td>907.185035</td>\n",
       "      <td>7.863975e+04</td>\n",
       "      <td>9.097334e+04</td>\n",
       "      <td>1.152950e+06</td>\n",
       "    </tr>\n",
       "    <tr>\n",
       "      <th>min</th>\n",
       "      <td>5.971000e+03</td>\n",
       "      <td>1.000000e-02</td>\n",
       "      <td>0.000000e+00</td>\n",
       "      <td>0.000000</td>\n",
       "      <td>0.000000e+00</td>\n",
       "      <td>0.000000e+00</td>\n",
       "      <td>1.000000e-02</td>\n",
       "    </tr>\n",
       "    <tr>\n",
       "      <th>25%</th>\n",
       "      <td>5.382635e+08</td>\n",
       "      <td>2.000000e+03</td>\n",
       "      <td>3.000000e+01</td>\n",
       "      <td>2.000000</td>\n",
       "      <td>1.698000e+01</td>\n",
       "      <td>3.100000e+01</td>\n",
       "      <td>2.000000e+03</td>\n",
       "    </tr>\n",
       "    <tr>\n",
       "      <th>50%</th>\n",
       "      <td>1.075276e+09</td>\n",
       "      <td>5.200000e+03</td>\n",
       "      <td>6.200000e+02</td>\n",
       "      <td>12.000000</td>\n",
       "      <td>3.947200e+02</td>\n",
       "      <td>6.243300e+02</td>\n",
       "      <td>5.500000e+03</td>\n",
       "    </tr>\n",
       "    <tr>\n",
       "      <th>75%</th>\n",
       "      <td>1.610149e+09</td>\n",
       "      <td>1.600000e+04</td>\n",
       "      <td>4.076000e+03</td>\n",
       "      <td>56.000000</td>\n",
       "      <td>3.034090e+03</td>\n",
       "      <td>4.050000e+03</td>\n",
       "      <td>1.550000e+04</td>\n",
       "    </tr>\n",
       "    <tr>\n",
       "      <th>max</th>\n",
       "      <td>2.147476e+09</td>\n",
       "      <td>1.000000e+08</td>\n",
       "      <td>2.033899e+07</td>\n",
       "      <td>219382.000000</td>\n",
       "      <td>2.033899e+07</td>\n",
       "      <td>2.033899e+07</td>\n",
       "      <td>1.663614e+08</td>\n",
       "    </tr>\n",
       "  </tbody>\n",
       "</table>\n",
       "</div>"
      ],
      "text/plain": [
       "                 ID          goal       pledged        backers   usd pledged  \\\n",
       "count  3.786610e+05  3.786610e+05  3.786610e+05  378661.000000  3.748640e+05   \n",
       "mean   1.074731e+09  4.908079e+04  9.682979e+03     105.617476  7.036729e+03   \n",
       "std    6.190862e+08  1.183391e+06  9.563601e+04     907.185035  7.863975e+04   \n",
       "min    5.971000e+03  1.000000e-02  0.000000e+00       0.000000  0.000000e+00   \n",
       "25%    5.382635e+08  2.000000e+03  3.000000e+01       2.000000  1.698000e+01   \n",
       "50%    1.075276e+09  5.200000e+03  6.200000e+02      12.000000  3.947200e+02   \n",
       "75%    1.610149e+09  1.600000e+04  4.076000e+03      56.000000  3.034090e+03   \n",
       "max    2.147476e+09  1.000000e+08  2.033899e+07  219382.000000  2.033899e+07   \n",
       "\n",
       "       usd_pledged_real  usd_goal_real  \n",
       "count      3.786610e+05   3.786610e+05  \n",
       "mean       9.058924e+03   4.545440e+04  \n",
       "std        9.097334e+04   1.152950e+06  \n",
       "min        0.000000e+00   1.000000e-02  \n",
       "25%        3.100000e+01   2.000000e+03  \n",
       "50%        6.243300e+02   5.500000e+03  \n",
       "75%        4.050000e+03   1.550000e+04  \n",
       "max        2.033899e+07   1.663614e+08  "
      ]
     },
     "execution_count": 38,
     "metadata": {},
     "output_type": "execute_result"
    }
   ],
   "source": [
    "#データの統計量の確認\n",
    "df.describe()"
   ]
  },
  {
   "cell_type": "code",
   "execution_count": 39,
   "metadata": {},
   "outputs": [
    {
     "data": {
      "text/plain": [
       "ID                     0\n",
       "name                   4\n",
       "category               0\n",
       "main_category          0\n",
       "currency               0\n",
       "deadline               0\n",
       "goal                   0\n",
       "launched               0\n",
       "pledged                0\n",
       "state                  0\n",
       "backers                0\n",
       "country                0\n",
       "usd pledged         3797\n",
       "usd_pledged_real       0\n",
       "usd_goal_real          0\n",
       "dtype: int64"
      ]
     },
     "execution_count": 39,
     "metadata": {},
     "output_type": "execute_result"
    }
   ],
   "source": [
    "#欠損値の確認\n",
    "df.isnull().sum()"
   ]
  },
  {
   "cell_type": "code",
   "execution_count": 40,
   "metadata": {},
   "outputs": [
    {
     "data": {
      "text/plain": [
       "category         159\n",
       "main_category     15\n",
       "dtype: int64"
      ]
     },
     "execution_count": 40,
     "metadata": {},
     "output_type": "execute_result"
    }
   ],
   "source": [
    "#'category', 'main_category'が何種類あるのかの確認\n",
    "df[['category', 'main_category']].nunique()"
   ]
  },
  {
   "cell_type": "code",
   "execution_count": 41,
   "metadata": {},
   "outputs": [
    {
     "data": {
      "text/plain": [
       "Film & Video    63585\n",
       "Music           51918\n",
       "Publishing      39874\n",
       "Games           35231\n",
       "Technology      32569\n",
       "Design          30070\n",
       "Art             28153\n",
       "Food            24602\n",
       "Fashion         22816\n",
       "Theater         10913\n",
       "Comics          10819\n",
       "Photography     10779\n",
       "Crafts           8809\n",
       "Journalism       4755\n",
       "Dance            3768\n",
       "Name: main_category, dtype: int64"
      ]
     },
     "execution_count": 41,
     "metadata": {},
     "output_type": "execute_result"
    }
   ],
   "source": [
    "#'main_category'のそれぞれのカテゴリに何個あるのかの確認\n",
    "df['main_category'].value_counts()"
   ]
  },
  {
   "cell_type": "code",
   "execution_count": 42,
   "metadata": {},
   "outputs": [
    {
     "data": {
      "text/plain": [
       "failed        197719\n",
       "successful    133956\n",
       "canceled       38779\n",
       "undefined       3562\n",
       "live            2799\n",
       "suspended       1846\n",
       "Name: state, dtype: int64"
      ]
     },
     "execution_count": 42,
     "metadata": {},
     "output_type": "execute_result"
    }
   ],
   "source": [
    "#'state'のそれぞれのカテゴリに何個あるのかの確認\n",
    "df['state'].value_counts()"
   ]
  },
  {
   "cell_type": "code",
   "execution_count": 43,
   "metadata": {},
   "outputs": [
    {
     "data": {
      "text/plain": [
       "0    197719\n",
       "1    133956\n",
       "Name: state, dtype: int64"
      ]
     },
     "execution_count": 43,
     "metadata": {},
     "output_type": "execute_result"
    }
   ],
   "source": [
    "#'state'列が'failed'と'successful'だけのデータを残し、データを数値に変換\n",
    "df = df[(df['state'] == 'failed' ) | (df['state'] == 'successful')]\n",
    "df['state'] = df['state'].map({\n",
    "    'failed':0,\n",
    "    'successful':1\n",
    "})\n",
    "df['state'].value_counts()"
   ]
  },
  {
   "cell_type": "code",
   "execution_count": 44,
   "metadata": {},
   "outputs": [
    {
     "data": {
      "text/html": [
       "<div>\n",
       "<style scoped>\n",
       "    .dataframe tbody tr th:only-of-type {\n",
       "        vertical-align: middle;\n",
       "    }\n",
       "\n",
       "    .dataframe tbody tr th {\n",
       "        vertical-align: top;\n",
       "    }\n",
       "\n",
       "    .dataframe thead th {\n",
       "        text-align: right;\n",
       "    }\n",
       "</style>\n",
       "<table border=\"1\" class=\"dataframe\">\n",
       "  <thead>\n",
       "    <tr style=\"text-align: right;\">\n",
       "      <th></th>\n",
       "      <th>ID</th>\n",
       "      <th>name</th>\n",
       "      <th>category</th>\n",
       "      <th>main_category</th>\n",
       "      <th>currency</th>\n",
       "      <th>deadline</th>\n",
       "      <th>goal</th>\n",
       "      <th>launched</th>\n",
       "      <th>pledged</th>\n",
       "      <th>state</th>\n",
       "      <th>backers</th>\n",
       "      <th>country</th>\n",
       "      <th>usd pledged</th>\n",
       "      <th>usd_pledged_real</th>\n",
       "      <th>usd_goal_real</th>\n",
       "      <th>period</th>\n",
       "    </tr>\n",
       "  </thead>\n",
       "  <tbody>\n",
       "    <tr>\n",
       "      <th>0</th>\n",
       "      <td>1000002330</td>\n",
       "      <td>The Songs of Adelaide &amp; Abullah</td>\n",
       "      <td>Poetry</td>\n",
       "      <td>Publishing</td>\n",
       "      <td>GBP</td>\n",
       "      <td>2015-10-09</td>\n",
       "      <td>1000.0</td>\n",
       "      <td>2015-08-11 12:12:28</td>\n",
       "      <td>0.0</td>\n",
       "      <td>0</td>\n",
       "      <td>0</td>\n",
       "      <td>GB</td>\n",
       "      <td>0.0</td>\n",
       "      <td>0.0</td>\n",
       "      <td>1533.95</td>\n",
       "      <td>58</td>\n",
       "    </tr>\n",
       "    <tr>\n",
       "      <th>1</th>\n",
       "      <td>1000003930</td>\n",
       "      <td>Greeting From Earth: ZGAC Arts Capsule For ET</td>\n",
       "      <td>Narrative Film</td>\n",
       "      <td>Film &amp; Video</td>\n",
       "      <td>USD</td>\n",
       "      <td>2017-11-01</td>\n",
       "      <td>30000.0</td>\n",
       "      <td>2017-09-02 04:43:57</td>\n",
       "      <td>2421.0</td>\n",
       "      <td>0</td>\n",
       "      <td>15</td>\n",
       "      <td>US</td>\n",
       "      <td>100.0</td>\n",
       "      <td>2421.0</td>\n",
       "      <td>30000.00</td>\n",
       "      <td>59</td>\n",
       "    </tr>\n",
       "    <tr>\n",
       "      <th>2</th>\n",
       "      <td>1000004038</td>\n",
       "      <td>Where is Hank?</td>\n",
       "      <td>Narrative Film</td>\n",
       "      <td>Film &amp; Video</td>\n",
       "      <td>USD</td>\n",
       "      <td>2013-02-26</td>\n",
       "      <td>45000.0</td>\n",
       "      <td>2013-01-12 00:20:50</td>\n",
       "      <td>220.0</td>\n",
       "      <td>0</td>\n",
       "      <td>3</td>\n",
       "      <td>US</td>\n",
       "      <td>220.0</td>\n",
       "      <td>220.0</td>\n",
       "      <td>45000.00</td>\n",
       "      <td>44</td>\n",
       "    </tr>\n",
       "    <tr>\n",
       "      <th>3</th>\n",
       "      <td>1000007540</td>\n",
       "      <td>ToshiCapital Rekordz Needs Help to Complete Album</td>\n",
       "      <td>Music</td>\n",
       "      <td>Music</td>\n",
       "      <td>USD</td>\n",
       "      <td>2012-04-16</td>\n",
       "      <td>5000.0</td>\n",
       "      <td>2012-03-17 03:24:11</td>\n",
       "      <td>1.0</td>\n",
       "      <td>0</td>\n",
       "      <td>1</td>\n",
       "      <td>US</td>\n",
       "      <td>1.0</td>\n",
       "      <td>1.0</td>\n",
       "      <td>5000.00</td>\n",
       "      <td>29</td>\n",
       "    </tr>\n",
       "    <tr>\n",
       "      <th>5</th>\n",
       "      <td>1000014025</td>\n",
       "      <td>Monarch Espresso Bar</td>\n",
       "      <td>Restaurants</td>\n",
       "      <td>Food</td>\n",
       "      <td>USD</td>\n",
       "      <td>2016-04-01</td>\n",
       "      <td>50000.0</td>\n",
       "      <td>2016-02-26 13:38:27</td>\n",
       "      <td>52375.0</td>\n",
       "      <td>1</td>\n",
       "      <td>224</td>\n",
       "      <td>US</td>\n",
       "      <td>52375.0</td>\n",
       "      <td>52375.0</td>\n",
       "      <td>50000.00</td>\n",
       "      <td>34</td>\n",
       "    </tr>\n",
       "  </tbody>\n",
       "</table>\n",
       "</div>"
      ],
      "text/plain": [
       "           ID                                               name  \\\n",
       "0  1000002330                    The Songs of Adelaide & Abullah   \n",
       "1  1000003930      Greeting From Earth: ZGAC Arts Capsule For ET   \n",
       "2  1000004038                                     Where is Hank?   \n",
       "3  1000007540  ToshiCapital Rekordz Needs Help to Complete Album   \n",
       "5  1000014025                               Monarch Espresso Bar   \n",
       "\n",
       "         category main_category currency   deadline     goal  \\\n",
       "0          Poetry    Publishing      GBP 2015-10-09   1000.0   \n",
       "1  Narrative Film  Film & Video      USD 2017-11-01  30000.0   \n",
       "2  Narrative Film  Film & Video      USD 2013-02-26  45000.0   \n",
       "3           Music         Music      USD 2012-04-16   5000.0   \n",
       "5     Restaurants          Food      USD 2016-04-01  50000.0   \n",
       "\n",
       "             launched  pledged  state  backers country  usd pledged  \\\n",
       "0 2015-08-11 12:12:28      0.0      0        0      GB          0.0   \n",
       "1 2017-09-02 04:43:57   2421.0      0       15      US        100.0   \n",
       "2 2013-01-12 00:20:50    220.0      0        3      US        220.0   \n",
       "3 2012-03-17 03:24:11      1.0      0        1      US          1.0   \n",
       "5 2016-02-26 13:38:27  52375.0      1      224      US      52375.0   \n",
       "\n",
       "   usd_pledged_real  usd_goal_real  period  \n",
       "0               0.0        1533.95      58  \n",
       "1            2421.0       30000.00      59  \n",
       "2             220.0       45000.00      44  \n",
       "3               1.0        5000.00      29  \n",
       "5           52375.0       50000.00      34  "
      ]
     },
     "execution_count": 44,
     "metadata": {},
     "output_type": "execute_result"
    }
   ],
   "source": [
    "#クラウドファンディングの期間を新たな説明変数に加える\n",
    "\n",
    "#'deadline'と'launched'を変換\n",
    "df['deadline'] = pd.to_datetime(df['deadline'], format = '%Y-%m-%d %H:%M:%S')\n",
    "df['launched'] = pd.to_datetime(df['launched'], format = '%Y-%m-%d %H:%M:%S')\n",
    "\n",
    "#クラウドファンディングの期間を表す説明変数'period'を導入\n",
    "df['period'] = (df['deadline'] - df['launched']).dt.days\n",
    "\n",
    "df.head()"
   ]
  },
  {
   "cell_type": "code",
   "execution_count": 45,
   "metadata": {},
   "outputs": [
    {
     "data": {
      "text/html": [
       "<div>\n",
       "<style scoped>\n",
       "    .dataframe tbody tr th:only-of-type {\n",
       "        vertical-align: middle;\n",
       "    }\n",
       "\n",
       "    .dataframe tbody tr th {\n",
       "        vertical-align: top;\n",
       "    }\n",
       "\n",
       "    .dataframe thead th {\n",
       "        text-align: right;\n",
       "    }\n",
       "</style>\n",
       "<table border=\"1\" class=\"dataframe\">\n",
       "  <thead>\n",
       "    <tr style=\"text-align: right;\">\n",
       "      <th></th>\n",
       "      <th>category</th>\n",
       "      <th>main_category</th>\n",
       "      <th>currency</th>\n",
       "      <th>state</th>\n",
       "      <th>country</th>\n",
       "      <th>usd_goal_real</th>\n",
       "      <th>period</th>\n",
       "    </tr>\n",
       "  </thead>\n",
       "  <tbody>\n",
       "    <tr>\n",
       "      <th>0</th>\n",
       "      <td>Poetry</td>\n",
       "      <td>Publishing</td>\n",
       "      <td>GBP</td>\n",
       "      <td>0</td>\n",
       "      <td>GB</td>\n",
       "      <td>1533.95</td>\n",
       "      <td>58</td>\n",
       "    </tr>\n",
       "    <tr>\n",
       "      <th>1</th>\n",
       "      <td>Narrative Film</td>\n",
       "      <td>Film &amp; Video</td>\n",
       "      <td>USD</td>\n",
       "      <td>0</td>\n",
       "      <td>US</td>\n",
       "      <td>30000.00</td>\n",
       "      <td>59</td>\n",
       "    </tr>\n",
       "    <tr>\n",
       "      <th>2</th>\n",
       "      <td>Narrative Film</td>\n",
       "      <td>Film &amp; Video</td>\n",
       "      <td>USD</td>\n",
       "      <td>0</td>\n",
       "      <td>US</td>\n",
       "      <td>45000.00</td>\n",
       "      <td>44</td>\n",
       "    </tr>\n",
       "    <tr>\n",
       "      <th>3</th>\n",
       "      <td>Music</td>\n",
       "      <td>Music</td>\n",
       "      <td>USD</td>\n",
       "      <td>0</td>\n",
       "      <td>US</td>\n",
       "      <td>5000.00</td>\n",
       "      <td>29</td>\n",
       "    </tr>\n",
       "    <tr>\n",
       "      <th>5</th>\n",
       "      <td>Restaurants</td>\n",
       "      <td>Food</td>\n",
       "      <td>USD</td>\n",
       "      <td>1</td>\n",
       "      <td>US</td>\n",
       "      <td>50000.00</td>\n",
       "      <td>34</td>\n",
       "    </tr>\n",
       "  </tbody>\n",
       "</table>\n",
       "</div>"
      ],
      "text/plain": [
       "         category main_category currency  state country  usd_goal_real  period\n",
       "0          Poetry    Publishing      GBP      0      GB        1533.95      58\n",
       "1  Narrative Film  Film & Video      USD      0      US       30000.00      59\n",
       "2  Narrative Film  Film & Video      USD      0      US       45000.00      44\n",
       "3           Music         Music      USD      0      US        5000.00      29\n",
       "5     Restaurants          Food      USD      1      US       50000.00      34"
      ]
     },
     "execution_count": 45,
     "metadata": {},
     "output_type": "execute_result"
    }
   ],
   "source": [
    "#不要なデータと予測する段階で知り得ないデータを除外\n",
    "df = df.drop(columns=['ID','name', 'deadline', 'goal', 'launched', 'pledged', 'backers', 'usd pledged', 'usd_pledged_real'])\n",
    "df.head()"
   ]
  },
  {
   "cell_type": "code",
   "execution_count": 46,
   "metadata": {},
   "outputs": [
    {
     "data": {
      "text/plain": [
       "category         0\n",
       "main_category    0\n",
       "currency         0\n",
       "state            0\n",
       "country          0\n",
       "usd_goal_real    0\n",
       "period           0\n",
       "dtype: int64"
      ]
     },
     "execution_count": 46,
     "metadata": {},
     "output_type": "execute_result"
    }
   ],
   "source": [
    "#欠損値の確認\n",
    "df.isnull().sum()"
   ]
  },
  {
   "cell_type": "code",
   "execution_count": 31,
   "metadata": {},
   "outputs": [
    {
     "data": {
      "image/png": "[encoded data removed]",
      "text/plain": [
       "<Figure size 540x540 with 12 Axes>"
      ]
     },
     "metadata": {
      "needs_background": "light"
     },
     "output_type": "display_data"
    }
   ],
   "source": [
    "#全ての量的変数に対して散布図行列を表示\n",
    "sns.pairplot(df)\n",
    "plt.show()"
   ]
  },
  {
   "cell_type": "code",
   "execution_count": 30,
   "metadata": {},
   "outputs": [
    {
     "data": {
      "image/png": "[encoded data removed]",
      "text/plain": [
       "<Figure size 432x288 with 1 Axes>"
      ]
     },
     "metadata": {
      "needs_background": "light"
     },
     "output_type": "display_data"
    }
   ],
   "source": [
    "#'usd_goal_real'列のデータの確認\n",
    "sns.boxplot(df.usd_goal_real)\n",
    "plt.show()"
   ]
  },
  {
   "cell_type": "code",
   "execution_count": 50,
   "metadata": {},
   "outputs": [
    {
     "data": {
      "text/html": [
       "<div>\n",
       "<style scoped>\n",
       "    .dataframe tbody tr th:only-of-type {\n",
       "        vertical-align: middle;\n",
       "    }\n",
       "\n",
       "    .dataframe tbody tr th {\n",
       "        vertical-align: top;\n",
       "    }\n",
       "\n",
       "    .dataframe thead th {\n",
       "        text-align: right;\n",
       "    }\n",
       "</style>\n",
       "<table border=\"1\" class=\"dataframe\">\n",
       "  <thead>\n",
       "    <tr style=\"text-align: right;\">\n",
       "      <th></th>\n",
       "      <th>state</th>\n",
       "      <th>usd_goal_real</th>\n",
       "      <th>period</th>\n",
       "      <th>category_3D Printing</th>\n",
       "      <th>category_Academic</th>\n",
       "      <th>category_Accessories</th>\n",
       "      <th>category_Action</th>\n",
       "      <th>category_Animals</th>\n",
       "      <th>category_Animation</th>\n",
       "      <th>category_Anthologies</th>\n",
       "      <th>...</th>\n",
       "      <th>country_JP</th>\n",
       "      <th>country_LU</th>\n",
       "      <th>country_MX</th>\n",
       "      <th>country_N,0\"</th>\n",
       "      <th>country_NL</th>\n",
       "      <th>country_NO</th>\n",
       "      <th>country_NZ</th>\n",
       "      <th>country_SE</th>\n",
       "      <th>country_SG</th>\n",
       "      <th>country_US</th>\n",
       "    </tr>\n",
       "  </thead>\n",
       "  <tbody>\n",
       "    <tr>\n",
       "      <th>0</th>\n",
       "      <td>0</td>\n",
       "      <td>1533.95</td>\n",
       "      <td>58</td>\n",
       "      <td>0</td>\n",
       "      <td>0</td>\n",
       "      <td>0</td>\n",
       "      <td>0</td>\n",
       "      <td>0</td>\n",
       "      <td>0</td>\n",
       "      <td>0</td>\n",
       "      <td>...</td>\n",
       "      <td>0</td>\n",
       "      <td>0</td>\n",
       "      <td>0</td>\n",
       "      <td>0</td>\n",
       "      <td>0</td>\n",
       "      <td>0</td>\n",
       "      <td>0</td>\n",
       "      <td>0</td>\n",
       "      <td>0</td>\n",
       "      <td>0</td>\n",
       "    </tr>\n",
       "    <tr>\n",
       "      <th>1</th>\n",
       "      <td>0</td>\n",
       "      <td>30000.00</td>\n",
       "      <td>59</td>\n",
       "      <td>0</td>\n",
       "      <td>0</td>\n",
       "      <td>0</td>\n",
       "      <td>0</td>\n",
       "      <td>0</td>\n",
       "      <td>0</td>\n",
       "      <td>0</td>\n",
       "      <td>...</td>\n",
       "      <td>0</td>\n",
       "      <td>0</td>\n",
       "      <td>0</td>\n",
       "      <td>0</td>\n",
       "      <td>0</td>\n",
       "      <td>0</td>\n",
       "      <td>0</td>\n",
       "      <td>0</td>\n",
       "      <td>0</td>\n",
       "      <td>1</td>\n",
       "    </tr>\n",
       "    <tr>\n",
       "      <th>2</th>\n",
       "      <td>0</td>\n",
       "      <td>45000.00</td>\n",
       "      <td>44</td>\n",
       "      <td>0</td>\n",
       "      <td>0</td>\n",
       "      <td>0</td>\n",
       "      <td>0</td>\n",
       "      <td>0</td>\n",
       "      <td>0</td>\n",
       "      <td>0</td>\n",
       "      <td>...</td>\n",
       "      <td>0</td>\n",
       "      <td>0</td>\n",
       "      <td>0</td>\n",
       "      <td>0</td>\n",
       "      <td>0</td>\n",
       "      <td>0</td>\n",
       "      <td>0</td>\n",
       "      <td>0</td>\n",
       "      <td>0</td>\n",
       "      <td>1</td>\n",
       "    </tr>\n",
       "    <tr>\n",
       "      <th>3</th>\n",
       "      <td>0</td>\n",
       "      <td>5000.00</td>\n",
       "      <td>29</td>\n",
       "      <td>0</td>\n",
       "      <td>0</td>\n",
       "      <td>0</td>\n",
       "      <td>0</td>\n",
       "      <td>0</td>\n",
       "      <td>0</td>\n",
       "      <td>0</td>\n",
       "      <td>...</td>\n",
       "      <td>0</td>\n",
       "      <td>0</td>\n",
       "      <td>0</td>\n",
       "      <td>0</td>\n",
       "      <td>0</td>\n",
       "      <td>0</td>\n",
       "      <td>0</td>\n",
       "      <td>0</td>\n",
       "      <td>0</td>\n",
       "      <td>1</td>\n",
       "    </tr>\n",
       "    <tr>\n",
       "      <th>5</th>\n",
       "      <td>1</td>\n",
       "      <td>50000.00</td>\n",
       "      <td>34</td>\n",
       "      <td>0</td>\n",
       "      <td>0</td>\n",
       "      <td>0</td>\n",
       "      <td>0</td>\n",
       "      <td>0</td>\n",
       "      <td>0</td>\n",
       "      <td>0</td>\n",
       "      <td>...</td>\n",
       "      <td>0</td>\n",
       "      <td>0</td>\n",
       "      <td>0</td>\n",
       "      <td>0</td>\n",
       "      <td>0</td>\n",
       "      <td>0</td>\n",
       "      <td>0</td>\n",
       "      <td>0</td>\n",
       "      <td>0</td>\n",
       "      <td>1</td>\n",
       "    </tr>\n",
       "  </tbody>\n",
       "</table>\n",
       "<p>5 rows × 214 columns</p>\n",
       "</div>"
      ],
      "text/plain": [
       "   state  usd_goal_real  period  category_3D Printing  category_Academic  \\\n",
       "0      0        1533.95      58                     0                  0   \n",
       "1      0       30000.00      59                     0                  0   \n",
       "2      0       45000.00      44                     0                  0   \n",
       "3      0        5000.00      29                     0                  0   \n",
       "5      1       50000.00      34                     0                  0   \n",
       "\n",
       "   category_Accessories  category_Action  category_Animals  \\\n",
       "0                     0                0                 0   \n",
       "1                     0                0                 0   \n",
       "2                     0                0                 0   \n",
       "3                     0                0                 0   \n",
       "5                     0                0                 0   \n",
       "\n",
       "   category_Animation  category_Anthologies  ...  country_JP  country_LU  \\\n",
       "0                   0                     0  ...           0           0   \n",
       "1                   0                     0  ...           0           0   \n",
       "2                   0                     0  ...           0           0   \n",
       "3                   0                     0  ...           0           0   \n",
       "5                   0                     0  ...           0           0   \n",
       "\n",
       "   country_MX  country_N,0\"  country_NL  country_NO  country_NZ  country_SE  \\\n",
       "0           0             0           0           0           0           0   \n",
       "1           0             0           0           0           0           0   \n",
       "2           0             0           0           0           0           0   \n",
       "3           0             0           0           0           0           0   \n",
       "5           0             0           0           0           0           0   \n",
       "\n",
       "   country_SG  country_US  \n",
       "0           0           0  \n",
       "1           0           1  \n",
       "2           0           1  \n",
       "3           0           1  \n",
       "5           0           1  \n",
       "\n",
       "[5 rows x 214 columns]"
      ]
     },
     "execution_count": 50,
     "metadata": {},
     "output_type": "execute_result"
    }
   ],
   "source": [
    "#カテゴリ変数をダミー変数に置き換える\n",
    "df = pd.get_dummies(df, columns=['category', 'main_category', 'currency', 'country'])\n",
    "df.head()"
   ]
  },
  {
   "cell_type": "code",
   "execution_count": 51,
   "metadata": {},
   "outputs": [
    {
     "name": "stdout",
     "output_type": "stream",
     "text": [
      "<class 'pandas.core.frame.DataFrame'>\n",
      "Int64Index: 331675 entries, 0 to 378660\n",
      "Columns: 214 entries, state to country_US\n",
      "dtypes: float64(1), int64(2), uint8(211)\n",
      "memory usage: 86.9 MB\n"
     ]
    }
   ],
   "source": [
    "#データの確認\n",
    "df.info()"
   ]
  },
  {
   "cell_type": "markdown",
   "metadata": {},
   "source": [
    "### ランダムフォレストを実装"
   ]
  },
  {
   "cell_type": "code",
   "execution_count": 63,
   "metadata": {},
   "outputs": [
    {
     "name": "stdout",
     "output_type": "stream",
     "text": [
      "訓練データに対する精度：0.836\n",
      "テストデータに対する精度：0.648\n"
     ]
    }
   ],
   "source": [
    "#ホールドアウト法の実装\n",
    "#ホールドアウト法に関する関数をimport\n",
    "from sklearn.model_selection import train_test_split\n",
    "\n",
    "y = df['state'].values\n",
    "X = df.drop('state', axis=1).values\n",
    "X_train, X_test, y_train, y_test = train_test_split(X, y, test_size = 0.2, random_state=1234)\n",
    "\n",
    "#ランダムフォレストを実装\n",
    "from sklearn.ensemble import RandomForestClassifier\n",
    "clf = RandomForestClassifier(n_estimators=10, random_state=1234)\n",
    "\n",
    "clf.fit(X_train, y_train)\n",
    "\n",
    "#訓練データとテストデータに対する精度を表示\n",
    "print(\"訓練データに対する精度：{:.3f}\".format(clf.score(X_train, y_train)))\n",
    "print(\"テストデータに対する精度：{:.3f}\".format(clf.score(X_test, y_test)))"
   ]
  },
  {
   "cell_type": "code",
   "execution_count": 67,
   "metadata": {},
   "outputs": [
    {
     "data": {
      "text/html": [
       "<div>\n",
       "<style scoped>\n",
       "    .dataframe tbody tr th:only-of-type {\n",
       "        vertical-align: middle;\n",
       "    }\n",
       "\n",
       "    .dataframe tbody tr th {\n",
       "        vertical-align: top;\n",
       "    }\n",
       "\n",
       "    .dataframe thead th {\n",
       "        text-align: right;\n",
       "    }\n",
       "</style>\n",
       "<table border=\"1\" class=\"dataframe\">\n",
       "  <thead>\n",
       "    <tr style=\"text-align: right;\">\n",
       "      <th></th>\n",
       "      <th>予測 = クラウドファンディング失敗</th>\n",
       "      <th>予測 = クラウドファンディング成功</th>\n",
       "    </tr>\n",
       "  </thead>\n",
       "  <tbody>\n",
       "    <tr>\n",
       "      <th>正解 = クラウドファンディング失敗</th>\n",
       "      <td>29840</td>\n",
       "      <td>9888</td>\n",
       "    </tr>\n",
       "    <tr>\n",
       "      <th>正解 = クラウドファンディング成功</th>\n",
       "      <td>13486</td>\n",
       "      <td>13121</td>\n",
       "    </tr>\n",
       "  </tbody>\n",
       "</table>\n",
       "</div>"
      ],
      "text/plain": [
       "                    予測 = クラウドファンディング失敗  予測 = クラウドファンディング成功\n",
       "正解 = クラウドファンディング失敗               29840                9888\n",
       "正解 = クラウドファンディング成功               13486               13121"
      ]
     },
     "execution_count": 67,
     "metadata": {},
     "output_type": "execute_result"
    }
   ],
   "source": [
    "from sklearn.metrics import accuracy_score, precision_recall_fscore_support, confusion_matrix\n",
    "\n",
    "#テストデータに対する結果を格納\n",
    "y_est = clf.predict(X_test)\n",
    "\n",
    "#混同行列を作成\n",
    "conf_mat = pd.DataFrame(confusion_matrix(y_test, y_est),\n",
    "                       index=['正解 = クラウドファンディング失敗', '正解 = クラウドファンディング成功'],\n",
    "                       columns=['予測 = クラウドファンディング失敗', '予測 = クラウドファンディング成功']\n",
    "                       )\n",
    "conf_mat"
   ]
  },
  {
   "cell_type": "code",
   "execution_count": 68,
   "metadata": {},
   "outputs": [
    {
     "name": "stdout",
     "output_type": "stream",
     "text": [
      "正答率(Accuracy) = 64.764%\n",
      "適合率（Precision） = 57.026%\n",
      "再現率（Recall） = 49.314%\n",
      "F1値（F1-score） = 52.890%\n"
     ]
    }
   ],
   "source": [
    "# 正解率(Accuracy)を表示\n",
    "print('正答率(Accuracy) = {:.3f}%'.format(100 * accuracy_score(y_test, y_est)))\n",
    "\n",
    "#Recall,Precision,F1-scoreを計算\n",
    "precision, recall, f1_score, _ = precision_recall_fscore_support(y_test, y_est)\n",
    "\n",
    "# クラウドファンディング成功に関するPrecision, Recall, F1-scoreを表示\n",
    "print('適合率（Precision） = {:.3f}%'.format(100 * precision[1]))\n",
    "print('再現率（Recall） = {:.3f}%'.format(100 * recall[1]))\n",
    "print('F1値（F1-score） = {:.3f}%'.format(100 * f1_score[1]))"
   ]
  },
  {
   "cell_type": "markdown",
   "metadata": {},
   "source": [
    "### 交差検証によるパラメータチューニングを行う"
   ]
  },
  {
   "cell_type": "code",
   "execution_count": 69,
   "metadata": {},
   "outputs": [
    {
     "name": "stdout",
     "output_type": "stream",
     "text": [
      "テストデータに対する精度：0.677\n"
     ]
    }
   ],
   "source": [
    "#'GridSearchCV'クラスをインポート\n",
    "from sklearn.model_selection import GridSearchCV\n",
    "\n",
    "y = df['state'].values\n",
    "X = df.drop('state', axis=1).values\n",
    "X_train, X_test, y_train, y_test = train_test_split(X, y, test_size = 0.2, random_state=1234)\n",
    "\n",
    "#パラメータを指定\n",
    "parameters = {'min_samples_leaf':[1,3,5], 'min_samples_split':[2,4,6]}\n",
    "\n",
    "clf = RandomForestClassifier(n_estimators=10, random_state=1234)\n",
    "grid_search = GridSearchCV(clf, parameters, cv = 3)\n",
    "\n",
    "grid_search.fit(X_train, y_train)\n",
    "\n",
    "print(\"テストデータに対する精度：{:.3f}\".format(grid_search.score(X_test, y_test)))"
   ]
  },
  {
   "cell_type": "code",
   "execution_count": 70,
   "metadata": {},
   "outputs": [
    {
     "name": "stdout",
     "output_type": "stream",
     "text": [
      "best parameters:{'min_samples_leaf': 5, 'min_samples_split': 2}\n",
      "best cross-validation score:0.675\n"
     ]
    }
   ],
   "source": [
    "#最良のパラメータと交差検証スコアを表示\n",
    "print(\"best parameters:{}\".format(grid_search.best_params_))\n",
    "print(\"best cross-validation score:{:.3f}\".format(grid_search.best_score_))"
   ]
  },
  {
   "cell_type": "code",
   "execution_count": 72,
   "metadata": {},
   "outputs": [
    {
     "name": "stdout",
     "output_type": "stream",
     "text": [
      "訓練データに対する精度：0.719\n",
      "テストデータに対する精度：0.677\n"
     ]
    }
   ],
   "source": [
    "#最適なパラメータでモデルを訓練\n",
    "clf2 = RandomForestClassifier(**grid_search.best_params_, n_estimators=10, random_state=1234)\n",
    "clf2.fit(X_train, y_train)\n",
    "\n",
    "#訓練データとテストデータに対する精度を表示\n",
    "print(\"訓練データに対する精度：{:.3f}\".format(clf2.score(X_train, y_train)))\n",
    "print(\"テストデータに対する精度：{:.3f}\".format(clf2.score(X_test, y_test)))"
   ]
  },
  {
   "cell_type": "code",
   "execution_count": 73,
   "metadata": {},
   "outputs": [
    {
     "data": {
      "text/html": [
       "<div>\n",
       "<style scoped>\n",
       "    .dataframe tbody tr th:only-of-type {\n",
       "        vertical-align: middle;\n",
       "    }\n",
       "\n",
       "    .dataframe tbody tr th {\n",
       "        vertical-align: top;\n",
       "    }\n",
       "\n",
       "    .dataframe thead th {\n",
       "        text-align: right;\n",
       "    }\n",
       "</style>\n",
       "<table border=\"1\" class=\"dataframe\">\n",
       "  <thead>\n",
       "    <tr style=\"text-align: right;\">\n",
       "      <th></th>\n",
       "      <th>予測 = クラウドファンディング失敗</th>\n",
       "      <th>予測 = クラウドファンディング成功</th>\n",
       "    </tr>\n",
       "  </thead>\n",
       "  <tbody>\n",
       "    <tr>\n",
       "      <th>正解 = クラウドファンディング失敗</th>\n",
       "      <td>31681</td>\n",
       "      <td>8047</td>\n",
       "    </tr>\n",
       "    <tr>\n",
       "      <th>正解 = クラウドファンディング成功</th>\n",
       "      <td>13409</td>\n",
       "      <td>13198</td>\n",
       "    </tr>\n",
       "  </tbody>\n",
       "</table>\n",
       "</div>"
      ],
      "text/plain": [
       "                    予測 = クラウドファンディング失敗  予測 = クラウドファンディング成功\n",
       "正解 = クラウドファンディング失敗               31681                8047\n",
       "正解 = クラウドファンディング成功               13409               13198"
      ]
     },
     "execution_count": 73,
     "metadata": {},
     "output_type": "execute_result"
    }
   ],
   "source": [
    "#テストデータに対する結果を格納\n",
    "y_est = clf2.predict(X_test)\n",
    "\n",
    "#混同行列を作成\n",
    "conf_mat = pd.DataFrame(confusion_matrix(y_test, y_est),\n",
    "                       index=['正解 = クラウドファンディング失敗', '正解 = クラウドファンディング成功'],\n",
    "                       columns=['予測 = クラウドファンディング失敗', '予測 = クラウドファンディング成功']\n",
    "                       )\n",
    "conf_mat"
   ]
  },
  {
   "cell_type": "code",
   "execution_count": 74,
   "metadata": {},
   "outputs": [
    {
     "name": "stdout",
     "output_type": "stream",
     "text": [
      "正答率(Accuracy) = 67.655%\n",
      "適合率（Precision） = 62.123%\n",
      "再現率（Recall） = 49.603%\n",
      "F1値（F1-score） = 55.162%\n"
     ]
    }
   ],
   "source": [
    "# 正解率(Accuracy)を表示\n",
    "print('正答率(Accuracy) = {:.3f}%'.format(100 * accuracy_score(y_test, y_est)))\n",
    "\n",
    "#Recall,Precision,F1-scoreを計算\n",
    "precision, recall, f1_score, _ = precision_recall_fscore_support(y_test, y_est)\n",
    "\n",
    "# クラウドファンディング成功に関するPrecision, Recall, F1-scoreを表示\n",
    "print('適合率（Precision） = {:.3f}%'.format(100 * precision[1]))\n",
    "print('再現率（Recall） = {:.3f}%'.format(100 * recall[1]))\n",
    "print('F1値（F1-score） = {:.3f}%'.format(100 * f1_score[1]))"
   ]
  }
 ],
 "metadata": {
  "kernelspec": {
   "display_name": "Python 3",
   "language": "python",
   "name": "python3"
  },
  "language_info": {
   "codemirror_mode": {
    "name": "ipython",
    "version": 3
   },
   "file_extension": ".py",
   "mimetype": "text/x-python",
   "name": "python",
   "nbconvert_exporter": "python",
   "pygments_lexer": "ipython3",
   "version": "3.7.6"
  }
 },
 "nbformat": 4,
 "nbformat_minor": 4
}
